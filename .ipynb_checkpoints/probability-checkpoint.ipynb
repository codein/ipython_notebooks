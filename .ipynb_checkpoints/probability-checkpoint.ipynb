{
 "metadata": {
  "name": "",
  "signature": "sha256:8e5fd242455d33d7bf98b59c56c7a0222d9be296dfeb91094777dd3980b9eb55"
 },
 "nbformat": 3,
 "nbformat_minor": 0,
 "worksheets": [
  {
   "cells": [
    {
     "cell_type": "markdown",
     "metadata": {},
     "source": [
      "You are playing a game involving three dice. You can choose to bet on any number from 1 to 6.\n",
      "\n",
      "I'll roll the three dice. \n",
      "If:\n",
      "\n",
      "- none shows your number you lose $1\n",
      "\n",
      "- one shows your number you win $1\n",
      "\n",
      "- two show your number you win $3\n",
      "\n",
      "- three show your number you win $5\n",
      "\n",
      "What is the expected value of this game?"
     ]
    },
    {
     "cell_type": "markdown",
     "metadata": {},
     "source": [
      "I have taken two different approaches to come to the calculate this\n",
      "1. Calculate the probabilities by formula\n",
      "2. Count the probabilities from the sample space, by evaluting all 216 scenarios."
     ]
    },
    {
     "cell_type": "heading",
     "level": 1,
     "metadata": {},
     "source": [
      "Solution 1: by formula"
     ]
    },
    {
     "cell_type": "markdown",
     "metadata": {},
     "source": [
      "\n",
      "P_s_ is the probablity of \"none shows your number\"\n",
      "P_se1 is the probablity of exactly \"one shows your number\"\n",
      "P_se2 is the probablity of exactly \"two shows your number\"\n",
      "P_se3 is the probablity of exactly \"threee shows your number\"\n",
      "\n",
      "P_s_ + P_se1 + P_se2 + P_se3 = 1\n",
      "\n",
      "P_s1 is the probablity of exactly atleast \"one shows your number\"\n",
      "P_s2 is the probablity of exactly atleast \"two shows your number\"\n",
      "P_s3 is the probablity of exactly atleast \"threee shows your number\"\n"
     ]
    },
    {
     "cell_type": "code",
     "collapsed": false,
     "input": [
      "P_s_ = (125.0/216.0) #(5/6 * 5/6 * 5/6)\n",
      "P_se1 = (75.0/216.0) #(1/6 * 5/6 * 5/6) * 3\n",
      "P_se2 = (15.0/216.0) #(1/6 * 1/6 * 5/6) * 3\n",
      "P_se3 = (1.0 /216.0) #(1/6 * 1/6 * 1/6)\n",
      "\n",
      "P_s1 = (P_se1 + P_se2 + P_se3)\n",
      "P_s2 = (P_se2 + P_se3)\n",
      "P_s3 = (P_se3)\n",
      "\n",
      "expected_value = (-1.0 * P_s_) + (1.0 * P_s1) + (3.0 * P_s2) + (5.0 * P_s3)\n",
      "\n",
      "print \"expected value $ %s\" % expected_value \n"
     ],
     "language": "python",
     "metadata": {},
     "outputs": [
      {
       "output_type": "stream",
       "stream": "stdout",
       "text": [
        "expected value $ 0.087962962963\n"
       ]
      }
     ],
     "prompt_number": 2
    },
    {
     "cell_type": "heading",
     "level": 1,
     "metadata": {},
     "source": [
      "Solution 2: by counting the favourable outcomes from the sample space"
     ]
    },
    {
     "cell_type": "code",
     "collapsed": false,
     "input": [
      "from itertools import product\n",
      "\n",
      "total_outcomes = unfavorable_outcomes = \\\n",
      "favorable_outcomes_1 = favorable_outcomes_2 = favorable_outcomes_3 =\\\n",
      "exactly1 = exactly2 = exactly3 = 0\n",
      "\n",
      "selection = 1\n",
      "\n",
      "for scenario in product(range(1,7), repeat=3):\n",
      "    total_outcomes += 1\n",
      "\n",
      "    if selection in scenario:\n",
      "        favorable_outcomes_1 += 1\n",
      "    else:\n",
      "        unfavorable_outcomes += 1\n",
      "\n",
      "    count = 0\n",
      "    for dice in scenario:\n",
      "        if dice == selection:\n",
      "            count += 1\n",
      "\n",
      "    if count >= 2:\n",
      "        favorable_outcomes_2 += 1\n",
      "\n",
      "    if (selection, selection, selection) == scenario:\n",
      "        favorable_outcomes_3 += 1\n",
      "        exactly3 += 1\n",
      "    elif count == 2:\n",
      "        exactly2 += 1\n",
      "    elif selection in scenario:\n",
      "        exactly1 += 1\n",
      "\n",
      "print 'total_outcomes', total_outcomes\n",
      "print 'favorable_outcomes_1 P_s1', favorable_outcomes_1\n",
      "print 'favorable_outcomes_2 P_s2', favorable_outcomes_2\n",
      "print 'favorable_outcomes_3 P_s3', favorable_outcomes_3\n",
      "print 'unfavorable_outcomes P_s_', unfavorable_outcomes\n",
      "\n",
      "print 'exactly3 P_se3', exactly3\n",
      "print 'exactly2 P_se2', exactly2\n",
      "print 'exactly1 P_se1', exactly1\n"
     ],
     "language": "python",
     "metadata": {},
     "outputs": [
      {
       "output_type": "stream",
       "stream": "stdout",
       "text": [
        "total_outcomes 216\n",
        "favorable_outcomes_1 P_s1 91\n",
        "favorable_outcomes_2 P_s2 16\n",
        "favorable_outcomes_3 P_s3 1\n",
        "unfavorable_outcomes P_s_ 125\n",
        "exactly3 P_se3 1\n",
        "exactly2 P_se2 15\n",
        "exactly1 P_se1 75\n"
       ]
      }
     ],
     "prompt_number": 3
    },
    {
     "cell_type": "code",
     "collapsed": false,
     "input": [],
     "language": "python",
     "metadata": {},
     "outputs": []
    }
   ],
   "metadata": {}
  }
 ]
}