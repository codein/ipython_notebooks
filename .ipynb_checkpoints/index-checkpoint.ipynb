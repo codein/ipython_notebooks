{
 "metadata": {
  "name": "",
  "signature": "sha256:5b7bcd2a01d3a08f30bd98b1b84ce5575a365181150078f02c19760f0ba9bcdb"
 },
 "nbformat": 3,
 "nbformat_minor": 0,
 "worksheets": [
  {
   "cells": [
    {
     "cell_type": "code",
     "collapsed": false,
     "input": [
      "from IPython.display import HTML\n",
      "\n",
      "HTML(filename='index.html')"
     ],
     "language": "python",
     "metadata": {},
     "outputs": [
      {
       "html": [
        "<div class=\"bs-example\">\n",
        "  <div class=\"jumbotron\">\n",
        "    <a href=\"https://github.com/codein\"><span class=\"glyphicon glyphicon-home\"></span> codein</a><h1>IPython notebooks</h1>\n",
        "  </div>\n",
        "\n",
        "  <div class=\"row\">\n",
        "    <div class=\"col-xs-6 col-md-3\">\n",
        "      <div class=\"caption\">\n",
        "        <h3>MARVEL</h3>\n",
        "      </div>\n",
        "      <a href=\"http://nbviewer.ipython.org/github/codein/ipython_notebooks/blob/master/marvel/Marvel.ipynb\" class=\"thumbnail\">\n",
        "        <img src=\"marvel/thumbnail.jpg\" alt=\"MARVEL\">\n",
        "      </a>\n",
        "    </div>\n",
        "    <div class=\"col-xs-6 col-md-3\">\n",
        "      <div class=\"caption\">\n",
        "        <h3>MARVEL</h3>\n",
        "      </div>\n",
        "      <a href=\"http://nbviewer.ipython.org/github/codein/ipython_notebooks/blob/master/marvel/Marvel.ipynb\" class=\"thumbnail\">\n",
        "        <img src=\"marvel/thumbnail.jpg\" alt=\"MARVEL\">\n",
        "      </a>\n",
        "    </div>\n",
        "\n",
        "  </div>\n",
        "\n",
        "</div>\n",
        "\n"
       ],
       "metadata": {},
       "output_type": "pyout",
       "prompt_number": 1,
       "text": [
        "<IPython.core.display.HTML at 0x3230d90>"
       ]
      }
     ],
     "prompt_number": 1
    }
   ],
   "metadata": {}
  }
 ]
}