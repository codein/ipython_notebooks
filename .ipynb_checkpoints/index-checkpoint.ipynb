{
 "metadata": {
  "name": "",
  "signature": "sha256:dfc46e4065eec60758b1b1f2dbbb5d446f65c2bd514c1ace44c02473000a949e"
 },
 "nbformat": 3,
 "nbformat_minor": 0,
 "worksheets": [
  {
   "cells": [
    {
     "cell_type": "code",
     "collapsed": false,
     "input": [
      "from IPython.display import HTML\n",
      "\n",
      "index_html = open('index.html').readlines()\n",
      "print index_html\n",
      "HTML(index_html)"
     ],
     "language": "python",
     "metadata": {},
     "outputs": [
      {
       "output_type": "stream",
       "stream": "stdout",
       "text": [
        "<html lang=\"en\">\n",
        "\n"
       ]
      },
      {
       "html": [
        "<html lang=\"en\">\n"
       ],
       "metadata": {},
       "output_type": "pyout",
       "prompt_number": 3,
       "text": [
        "<IPython.core.display.HTML at 0x1ce3210>"
       ]
      }
     ],
     "prompt_number": 3
    },
    {
     "cell_type": "code",
     "collapsed": false,
     "input": [],
     "language": "python",
     "metadata": {},
     "outputs": []
    }
   ],
   "metadata": {}
  }
 ]
}