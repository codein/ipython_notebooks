{
 "metadata": {
  "name": "",
  "signature": "sha256:63d2e0399c5a086253b06307fbf2c44a25c7083fcc7895b76a64d4864f0c074c"
 },
 "nbformat": 3,
 "nbformat_minor": 0,
 "worksheets": [
  {
   "cells": [
    {
     "cell_type": "code",
     "collapsed": false,
     "input": [
      "from IPython.display import HTML, Javascript\n",
      "Javascript(filename='index.html', css='https://netdna.bootstrapcdn.com/bootstrap/3.1.1/css/bootstrap.min.css')\n",
      "\n",
      "# HTML(filename='index.html')"
     ],
     "language": "python",
     "metadata": {},
     "outputs": [
      {
       "html": [
        "<div class=\"bs-example\">\n",
        "  <div class=\"jumbotron\">\n",
        "    <a href=\"https://github.com/codein\"><span class=\"glyphicon glyphicon-home\"></span> codein</a><h1>IPython notebooks</h1>\n",
        "  </div>\n",
        "\n",
        "  <div class=\"row\">\n",
        "    <div class=\"col-xs-6 col-md-3\">\n",
        "      <div class=\"caption\">\n",
        "        <h3>MARVEL</h3>\n",
        "      </div>\n",
        "      <a href=\"http://nbviewer.ipython.org/github/codein/ipython_notebooks/blob/master/marvel/Marvel.ipynb\" class=\"thumbnail\">\n",
        "        <img src=\"https://raw.githubusercontent.com/codein/ipython_notebooks/master/marvel/thumbnail.jpg\" alt=\"MARVEL\">\n",
        "      </a>\n",
        "    </div>\n",
        "\n",
        "\n",
        "  </div>\n",
        "\n",
        "</div>\n",
        "\n"
       ],
       "metadata": {},
       "output_type": "pyout",
       "prompt_number": 27,
       "text": [
        "<IPython.core.display.HTML at 0x24004d0>"
       ]
      }
     ],
     "prompt_number": 27
    }
   ],
   "metadata": {}
  }
 ]
}