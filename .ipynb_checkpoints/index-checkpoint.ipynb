{
 "metadata": {
  "name": "",
  "signature": "sha256:36a5213ce083468c11140df1c501a66e2d71fc4357dff3819d93bf1b518dd8d0"
 },
 "nbformat": 3,
 "nbformat_minor": 0,
 "worksheets": [
  {
   "cells": [
    {
     "cell_type": "code",
     "collapsed": false,
     "input": [
      "from IPython.display import HTML\n",
      "\n",
      "index_html_file = open('index.html')\n",
      "index_html = ''.join(line for line in index_html_file.readlines())\n",
      "\n",
      "HTML(index_html)"
     ],
     "language": "python",
     "metadata": {},
     "outputs": []
    }
   ],
   "metadata": {}
  }
 ]
}