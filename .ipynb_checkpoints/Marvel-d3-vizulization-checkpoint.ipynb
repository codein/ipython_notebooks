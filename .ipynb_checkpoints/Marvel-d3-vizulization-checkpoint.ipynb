{
 "metadata": {
  "name": "",
  "signature": "sha256:622fc6e7aca479af9db2392721b53c63392fb8c7ee34b2f767387972548532ac"
 },
 "nbformat": 3,
 "nbformat_minor": 0,
 "worksheets": [
  {
   "cells": [
    {
     "cell_type": "heading",
     "level": 3,
     "metadata": {},
     "source": [
      "d3 rendering of co occurance of top 100 charaters in MARVEL comics."
     ]
    },
    {
     "cell_type": "code",
     "collapsed": false,
     "input": [
      "%%html\n",
      "<div id=\"d3-example\"></div>\n",
      "\n",
      "<style>\n",
      "\n",
      ".node {\n",
      "  font: 300 11px \"Helvetica Neue\", Helvetica, Arial, sans-serif;\n",
      "  fill: #bbb;\n",
      "}\n",
      "\n",
      ".node:hover {\n",
      "  fill: #000;\n",
      "}\n",
      "\n",
      ".link {\n",
      "  stroke: steelblue;\n",
      "  stroke-opacity: .4;\n",
      "  fill: none;\n",
      "  pointer-events: none;\n",
      "}\n",
      "\n",
      ".node:hover,\n",
      ".node--source,\n",
      ".node--target {\n",
      "  font-weight: 700;\n",
      "}\n",
      "\n",
      ".node--source {\n",
      "  fill: #2ca02c;\n",
      "}\n",
      "\n",
      ".node--target {\n",
      "  fill: #d62728;\n",
      "}\n",
      "\n",
      ".link--source,\n",
      ".link--target {\n",
      "  stroke-opacity: 1;\n",
      "  stroke-width: 2px;\n",
      "}\n",
      "\n",
      ".link--source {\n",
      "  stroke: #d62728;\n",
      "}\n",
      "\n",
      ".link--target {\n",
      "  stroke: #2ca02c;\n",
      "}\n",
      "\n",
      "</style>"
     ],
     "language": "python",
     "metadata": {},
     "outputs": [
      {
       "html": [
        "<div id=\"d3-example\"></div>\n",
        "\n",
        "<style>\n",
        "\n",
        ".node {\n",
        "  font: 300 11px \"Helvetica Neue\", Helvetica, Arial, sans-serif;\n",
        "  fill: #bbb;\n",
        "}\n",
        "\n",
        ".node:hover {\n",
        "  fill: #000;\n",
        "}\n",
        "\n",
        ".link {\n",
        "  stroke: steelblue;\n",
        "  stroke-opacity: .4;\n",
        "  fill: none;\n",
        "  pointer-events: none;\n",
        "}\n",
        "\n",
        ".node:hover,\n",
        ".node--source,\n",
        ".node--target {\n",
        "  font-weight: 700;\n",
        "}\n",
        "\n",
        ".node--source {\n",
        "  fill: #2ca02c;\n",
        "}\n",
        "\n",
        ".node--target {\n",
        "  fill: #d62728;\n",
        "}\n",
        "\n",
        ".link--source,\n",
        ".link--target {\n",
        "  stroke-opacity: 1;\n",
        "  stroke-width: 2px;\n",
        "}\n",
        "\n",
        ".link--source {\n",
        "  stroke: #d62728;\n",
        "}\n",
        "\n",
        ".link--target {\n",
        "  stroke: #2ca02c;\n",
        "}\n",
        "\n",
        "</style>"
       ],
       "metadata": {},
       "output_type": "display_data",
       "text": [
        "<IPython.core.display.HTML at 0x30714d0>"
       ]
      }
     ],
     "prompt_number": 29
    },
    {
     "cell_type": "markdown",
     "metadata": {},
     "source": [
      "Mouseover any of the nodes in this network to see the co occurance links \n",
      "comparitively less popular characters in green and more popular in red."
     ]
    }
   ],
   "metadata": {}
  }
 ]
}