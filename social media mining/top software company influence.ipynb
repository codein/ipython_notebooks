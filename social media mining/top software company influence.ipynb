{
 "metadata": {
  "name": "",
  "signature": "sha256:1228fea8657375ff16ded915807b2d7261baa2cddb31d33e1d58351cc14a6813"
 },
 "nbformat": 3,
 "nbformat_minor": 0,
 "worksheets": [
  {
   "cells": [
    {
     "cell_type": "code",
     "collapsed": false,
     "input": [
      "from facebook_influence import get_company\n",
      "from IPython.core.display import Image, display\n",
      "\n",
      "companies = ['google', 'yahoo', 'microsoft', 'facebook', 'amazon' ]\n",
      "\n",
      "for company in companies:\n",
      "    facebook_company_obj = get_company(company)\n",
      "    \n",
      "    display(Image(url=facebook_company_obj['thumbnail']))\n",
      "    for key, value in facebook_company_obj.iteritems():\n",
      "        print '%s: %s' % (key, value)"
     ],
     "language": "python",
     "metadata": {},
     "outputs": [
      {
       "html": [
        "<img src=\"https://scontent-b.xx.fbcdn.net/hphotos-xap1/t1.0-9/s720x720/10428071_10152492343337838_7455990844250450916_n.jpg\"/>"
       ],
       "metadata": {},
       "output_type": "display_data",
       "text": [
        "<IPython.core.display.Image at 0x271ab50>"
       ]
      },
      {
       "output_type": "stream",
       "stream": "stdout",
       "text": [
        "Founded: 1998\n",
        "Talked about count: 149115\n",
        "Location: Mountain View, CA\n",
        "Name: Google\n",
        "Checkins: 932211\n",
        "Mission: Google's mission is to organize the world's information and make it universally accessible and useful.\n",
        "thumbnail: https://scontent-b.xx.fbcdn.net/hphotos-xap1/t1.0-9/s720x720/10428071_10152492343337838_7455990844250450916_n.jpg\n",
        "Likes: 17012332\n"
       ]
      },
      {
       "html": [
        "<img src=\"https://fbcdn-sphotos-f-a.akamaihd.net/hphotos-ak-xpf1/t1.0-9/q71/s720x720/1377453_10152513476549714_6443211563658314384_n.jpg\"/>"
       ],
       "metadata": {},
       "output_type": "display_data",
       "text": [
        "<IPython.core.display.Image at 0x2799950>"
       ]
      },
      {
       "output_type": "stream",
       "stream": "stdout",
       "text": [
        "Founded: 1995\n",
        "Talked about count: 81444\n",
        "Location: Sunnyvale, CA\n",
        "Name: Yahoo\n",
        "Checkins: 14772\n",
        "Mission: \n",
        "thumbnail: https://fbcdn-sphotos-f-a.akamaihd.net/hphotos-ak-xpf1/t1.0-9/q71/s720x720/1377453_10152513476549714_6443211563658314384_n.jpg\n",
        "Likes: 11964258\n"
       ]
      },
      {
       "html": [
        "<img src=\"https://fbcdn-sphotos-c-a.akamaihd.net/hphotos-ak-xpa1/t1.0-9/s720x720/10153861_10152072600723721_924755146_n.png\"/>"
       ],
       "metadata": {},
       "output_type": "display_data",
       "text": [
        "<IPython.core.display.Image at 0x279d7d0>"
       ]
      },
      {
       "output_type": "stream",
       "stream": "stdout",
       "text": [
        "Founded: 1975\n",
        "Talked about count: 86841\n",
        "Location: Redmond, WA\n",
        "Name: Microsoft\n",
        "Checkins: 68266\n",
        "Mission: \n",
        "thumbnail: https://fbcdn-sphotos-c-a.akamaihd.net/hphotos-ak-xpa1/t1.0-9/s720x720/10153861_10152072600723721_924755146_n.png\n",
        "Likes: 5073895\n"
       ]
      },
      {
       "html": [
        "<img src=\"https://scontent-b.xx.fbcdn.net/hphotos-xfp1/t31.0-8/q71/s720x720/1553497_10152513030211729_1664524928_o.jpg\"/>"
       ],
       "metadata": {},
       "output_type": "display_data",
       "text": [
        "<IPython.core.display.Image at 0x279db50>"
       ]
      },
      {
       "output_type": "stream",
       "stream": "stdout",
       "text": [
        "Founded: February 4, 2004\n",
        "Talked about count: 1562751\n",
        "Location: , \n",
        "Name: Facebook\n",
        "Checkins: 348\n",
        "Mission: Founded in 2004, Facebook\u2019s mission is to give people the power to share and make the world more open and connected. People use Facebook to stay connected with friends and family, to discover what\u2019s going on in the world, and to share and express what matters to them.\n",
        "thumbnail: https://scontent-b.xx.fbcdn.net/hphotos-xfp1/t31.0-8/q71/s720x720/1553497_10152513030211729_1664524928_o.jpg\n",
        "Likes: 152231409\n"
       ]
      },
      {
       "html": [
        "<img src=\"https://fbcdn-sphotos-g-a.akamaihd.net/hphotos-ak-xfp1/v/t1.0-9/s720x720/10482529_10152279906818124_2241966903916153946_n.jpg?oh=ec45ec6ab759a155f642da5046bd44f4&oe=54301EB9&__gda__=1412107840_f14002348b2d2b8a231a70d97de81de4\"/>"
       ],
       "metadata": {},
       "output_type": "display_data",
       "text": [
        "<IPython.core.display.Image at 0x279db10>"
       ]
      },
      {
       "output_type": "stream",
       "stream": "stdout",
       "text": [
        "Founded: 1995\n",
        "Talked about count: 134021\n",
        "Location: Seattle, WA\n",
        "Name: Amazon.com\n",
        "Checkins: 10918\n",
        "Mission: Our vision is to be Earth's most customer centric company; to build a place where people can come to find and discover anything they might want to buy online.\n",
        "thumbnail: https://fbcdn-sphotos-g-a.akamaihd.net/hphotos-ak-xfp1/v/t1.0-9/s720x720/10482529_10152279906818124_2241966903916153946_n.jpg?oh=ec45ec6ab759a155f642da5046bd44f4&oe=54301EB9&__gda__=1412107840_f14002348b2d2b8a231a70d97de81de4\n",
        "Likes: 24166427\n"
       ]
      }
     ],
     "prompt_number": 1
    }
   ],
   "metadata": {}
  }
 ]
}