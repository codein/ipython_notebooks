{
 "metadata": {
  "name": "",
  "signature": "sha256:fd53d983de1870ccb45aef511b9cd0de4e908863bca6786665a5d0fa0ba9d254"
 },
 "nbformat": 3,
 "nbformat_minor": 0,
 "worksheets": [
  {
   "cells": [
    {
     "cell_type": "code",
     "collapsed": false,
     "input": [
      "from IPython.display import HTML, Javascript\n",
      "# Javascript(url='' css='https://netdna.bootstrapcdn.com/bootstrap/3.1.1/css/bootstrap.min.css')\n",
      "\n",
      "HTML(filename='index.html')"
     ],
     "language": "python",
     "metadata": {},
     "outputs": [
      {
       "html": [
        "<div class=\"bs-example\">\n",
        "  <div class=\"jumbotron\">\n",
        "    <a href=\"https://github.com/codein\"><span class=\"glyphicon glyphicon-home\"></span> codein</a><h1>IPython notebooks</h1>\n",
        "  </div>\n",
        "\n",
        "  <div class=\"row\">\n",
        "    <div class=\"col-xs-6 col-md-3\">\n",
        "      <div class=\"caption\">\n",
        "        <h3>MARVEL</h3>\n",
        "      </div>\n",
        "      <a href=\"http://nbviewer.ipython.org/github/codein/ipython_notebooks/blob/master/marvel/Marvel.ipynb\" class=\"thumbnail\">\n",
        "        <img src=\"marvel/thumbnail.jpg\" alt=\"MARVEL\">\n",
        "      </a>\n",
        "    </div>\n",
        "    <div class=\"col-xs-6 col-md-3\">\n",
        "      <div class=\"caption\">\n",
        "        <h3>MARVEL</h3>\n",
        "      </div>\n",
        "      <a href=\"http://nbviewer.ipython.org/github/codein/ipython_notebooks/blob/master/marvel/Marvel.ipynb\" class=\"thumbnail\">\n",
        "        <img src=\"marvel/thumbnail.jpg\" alt=\"MARVEL\">\n",
        "      </a>\n",
        "    </div>\n",
        "\n",
        "  </div>\n",
        "\n",
        "</div>\n",
        "\n"
       ],
       "metadata": {},
       "output_type": "pyout",
       "prompt_number": 1,
       "text": [
        "<IPython.core.display.HTML at 0x3230d90>"
       ]
      }
     ],
     "prompt_number": 1
    }
   ],
   "metadata": {}
  }
 ]
}