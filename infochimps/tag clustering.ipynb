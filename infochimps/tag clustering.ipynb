{
 "metadata": {
  "name": "",
  "signature": "sha256:1b0ad7aea264e9f752aed1bb024eeac6ae35a49c21abddbc57591598da8ed475"
 },
 "nbformat": 3,
 "nbformat_minor": 0,
 "worksheets": [
  {
   "cells": [
    {
     "cell_type": "markdown",
     "metadata": {},
     "source": [
      "Place holder for how this data was retreived?"
     ]
    },
    {
     "cell_type": "code",
     "collapsed": false,
     "input": [
      "from IPython.display import HTML\n",
      "\n",
      "HTML('<iframe src=http://codein.github.io/d3/tag_clustering/ width=1024 height=1024></iframe>')\n",
      "\n"
     ],
     "language": "python",
     "metadata": {},
     "outputs": [
      {
       "html": [
        "<iframe src=http://codein.github.io/d3/tag_clustering/ width=1024 height=1024></iframe>"
       ],
       "metadata": {},
       "output_type": "pyout",
       "prompt_number": 1,
       "text": [
        "<IPython.core.display.HTML at 0x320bf90>"
       ]
      }
     ],
     "prompt_number": 1
    }
   ],
   "metadata": {}
  }
 ]
}